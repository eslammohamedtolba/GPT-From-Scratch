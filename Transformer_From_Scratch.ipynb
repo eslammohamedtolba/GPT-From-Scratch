{
  "nbformat": 4,
  "nbformat_minor": 0,
  "metadata": {
    "colab": {
      "provenance": []
    },
    "kernelspec": {
      "name": "python3",
      "display_name": "Python 3"
    },
    "language_info": {
      "name": "python"
    }
  },
  "cells": [
    {
      "cell_type": "markdown",
      "source": [
        "This notebook implements the Transformer architecture from scratch using PyTorch, following the original \"Attention Is All You Need\" paper by Vaswani et al. The implementation avoids using high-level APIs (like `torch.nn.Transformer`) to give a deeper understanding of the model’s internal mechanics.\n",
        "\n",
        "## Objectives\n",
        "- Understand the architecture of the Transformer.\n",
        "- Build each component from scratch:\n",
        "  - Positional Encoding\n",
        "  - Scaled Dot-Product Attention\n",
        "  - Multi-Head Attention\n",
        "  - Feedforward Networks\n",
        "  - Encoder and Decoder Layers\n",
        "  - Full Transformer Model\n",
        "- Train the model on a toy dataset to demonstrate learning.\n",
        "\n"
      ],
      "metadata": {
        "id": "clYRsKDwHDtm"
      }
    },
    {
      "cell_type": "markdown",
      "source": [
        "![Transformer.png](data:image/png;base64,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)"
      ],
      "metadata": {
        "id": "CxYdCUzhIGFY"
      }
    },
    {
      "cell_type": "markdown",
      "source": [
        "# Load dependencies"
      ],
      "metadata": {
        "id": "KZWlk6SVKo5M"
      }
    },
    {
      "cell_type": "code",
      "source": [
        "import requests\n",
        "import re"
      ],
      "metadata": {
        "id": "zgsUIGnoKmO6"
      },
      "execution_count": 1,
      "outputs": []
    },
    {
      "cell_type": "markdown",
      "source": [
        "# 1. Data Preparation\n",
        "![image.png](data:image/png;base64,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)"
      ],
      "metadata": {
        "id": "shzlcflpGnfE"
      }
    },
    {
      "cell_type": "markdown",
      "source": [
        "## 1.1. Load the data"
      ],
      "metadata": {
        "id": "wT9f2OT8KfS2"
      }
    },
    {
      "cell_type": "code",
      "execution_count": 2,
      "metadata": {
        "id": "qUWRnt5vGUNL"
      },
      "outputs": [],
      "source": [
        "# URL of the plain text file\n",
        "url = \"https://raw.githubusercontent.com/rasbt/LLMs-from-scratch/main/ch02/01_main-chapter-code/the-verdict.txt\""
      ]
    },
    {
      "cell_type": "code",
      "source": [
        "response = requests.get(url)\n",
        "text = response.text\n",
        "text = text.lstrip('\\ufeff')   # This will remove the Byte Order Mark (BOM) as \"\\ufeff\"\n",
        "\n",
        "print(\"The number of characters:\",len(text))\n",
        "print(text[:500])"
      ],
      "metadata": {
        "colab": {
          "base_uri": "https://localhost:8080/"
        },
        "id": "GUdK4BAVK2jR",
        "outputId": "97f9c00d-5fd3-47ad-efaa-2f8150488c27"
      },
      "execution_count": 3,
      "outputs": [
        {
          "output_type": "stream",
          "name": "stdout",
          "text": [
            "The number of characters: 20479\n",
            "I HAD always thought Jack Gisburn rather a cheap genius--though a good fellow enough--so it was no great surprise to me to hear that, in the height of his glory, he had dropped his painting, married a rich widow, and established himself in a villa on the Riviera. (Though I rather thought it would have been Rome or Florence.)\n",
            "\n",
            "\"The height of his glory\"--that was what the women called it. I can hear Mrs. Gideon Thwing--his last Chicago sitter--deploring his unaccountable abdication. \"Of course it'\n"
          ]
        }
      ]
    },
    {
      "cell_type": "markdown",
      "source": [
        "## 1.2. Tokenize the data"
      ],
      "metadata": {
        "id": "b0zD_lwKMYwf"
      }
    },
    {
      "cell_type": "code",
      "source": [
        "class SimpleTokenizer:\n",
        "  def __init__(self, text):\n",
        "\n",
        "    tokens = self.__tokenize(text)\n",
        "    all_words = sorted(set(tokens))\n",
        "\n",
        "    # Adding Special Tokens\n",
        "    # - <UNK> for handling unknown tokens -> Handling out-of-vocabulary words\n",
        "    # - Begenning of sentence (BOS) -> Put in begenning of each document\n",
        "    # - End Of Sentence (EOS) -> Put in end of each document\n",
        "    # - Padding (BAD) -> Handling unequal sentences in length\n",
        "    all_words.extend(('<UNK>','<BOS>','<EOS>','<PAD>'))\n",
        "\n",
        "    self.voc_str_int = {word: i for i, word in enumerate(all_words)}\n",
        "    self.voc_int_str = {i: word for i, word in enumerate(all_words)}\n",
        "\n",
        "  def __tokenize(self, text):\n",
        "\n",
        "    tokens = re.split(r'([,.?_!\"()\\':;]|--|\\s)', text)\n",
        "\n",
        "    tokens = [token.strip() for token in tokens if token.strip()]\n",
        "\n",
        "    return tokens\n",
        "\n",
        "  def encode(self, text):\n",
        "\n",
        "    tokens = self.__tokenize(text)\n",
        "\n",
        "    ids = [self.voc_str_int.get(token, self.voc_str_int['<UNK>']) for token in tokens]\n",
        "\n",
        "    return ids\n",
        "\n",
        "  def decode(self, ids):\n",
        "\n",
        "    tokens = [self.voc_int_str.get(id, '<UNK>') for id in ids]\n",
        "\n",
        "    text = ' '.join(tokens)\n",
        "\n",
        "    text = re.sub(r'\\s+([,.?_!\"()\\':;]|--|\\s)', r'\\1', text) # Remove spaces before this specified characters (eg. ,.?)\n",
        "\n",
        "    return text"
      ],
      "metadata": {
        "id": "vmnnxpdCkRdQ"
      },
      "execution_count": 4,
      "outputs": []
    },
    {
      "cell_type": "markdown",
      "source": [
        "# 1.3. Create Data Loader"
      ],
      "metadata": {
        "id": "Ge20QW75XtXq"
      }
    },
    {
      "cell_type": "code",
      "source": [
        "class SimpleDataLoader:\n",
        "  def __init__(self, token_ids, context_size = 4, batch_size = 1, stride = 1):\n",
        "\n",
        "    self.context_size = context_size\n",
        "    self.batch_size = batch_size\n",
        "    self.stride = stride\n",
        "\n",
        "    self.X, self.Y = self.__create_dataset(token_ids)\n",
        "\n",
        "  def __create_dataset(self, token_ids):\n",
        "\n",
        "    X, Y = [], []\n",
        "\n",
        "    for i in range(len(token_ids) - self.context_size - self.stride):\n",
        "\n",
        "      X.append(token_ids[i : i + self.context_size])\n",
        "\n",
        "      Y.append(token_ids[i + self.stride : i + self.context_size + 1])\n",
        "\n",
        "    return X, Y\n",
        "\n",
        "  def __len__(self):\n",
        "\n",
        "    return len(self.X)\n",
        "\n",
        "  def __getitem__(self, idx):\n",
        "\n",
        "    return self.X[idx], self.Y[idx]"
      ],
      "metadata": {
        "id": "PNhMC6AGF57i"
      },
      "execution_count": 12,
      "outputs": []
    },
    {
      "cell_type": "code",
      "source": [
        "tokenizer = SimpleTokenizer(text)\n",
        "token_ids = tokenizer.encode(text)\n",
        "\n",
        "context_size = 10\n",
        "dataloader = SimpleDataLoader(token_ids, context_size)\n",
        "\n",
        "data_iter = iter(dataloader)\n",
        "\n",
        "inputs, targets = next(data_iter)\n",
        "\n",
        "print(\"Inputs:\", inputs)\n",
        "print(\"Targets:\", targets)\n",
        "# for x, y in next(data_iter):\n",
        "#   print(f\"{x} -> {y}\")\n",
        "#   print(tokenizer.decode(x), \"->\", tokenizer.decode(y), \"\\n\")\n",
        "\n",
        "# for i in range(5):\n",
        "#   x, y = dataloader[i]\n",
        "#   print(f\"{x} -> {y}\")\n",
        "#   print(tokenizer.decode(x), \"->\", tokenizer.decode(y), \"\\n\")"
      ],
      "metadata": {
        "colab": {
          "base_uri": "https://localhost:8080/"
        },
        "id": "DNg43-37Gpsb",
        "outputId": "ce62aa98-60b7-441a-9290-bbb6564769f7"
      },
      "execution_count": 17,
      "outputs": [
        {
          "output_type": "stream",
          "name": "stdout",
          "text": [
            "Inputs: [53, 44, 149, 1003, 57, 38, 818, 115, 256, 486]\n",
            "Targets: [44, 149, 1003, 57, 38, 818, 115, 256, 486, 6]\n"
          ]
        }
      ]
    },
    {
      "cell_type": "code",
      "source": [],
      "metadata": {
        "id": "qyWZFW4bUwdX"
      },
      "execution_count": null,
      "outputs": []
    }
  ]
}